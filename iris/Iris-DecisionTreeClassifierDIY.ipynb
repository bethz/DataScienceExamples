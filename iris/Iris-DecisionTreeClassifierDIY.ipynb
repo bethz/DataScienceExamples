{
 "cells": [
  {
   "cell_type": "markdown",
   "metadata": {},
   "source": [
    "## Iris Prediction using Decision Tree Classifier\n",
    "\n",
    "Iris is the Hello World for Machine Learning.\n",
    "This demonstrates a simple Decision Tree classifier.\n",
    "Data is available from scikit-learn.\n",
    "info on the data is available from https://scikit-learn.org/stable/datasets/index.html#iris-dataset\n",
    "In this directory, Iris-ExploreTheData.ipynb explores the data set.\n",
    "\n",
    "\n",
    "### Load Libraries"
   ]
  },
  {
   "cell_type": "code",
   "execution_count": 42,
   "metadata": {},
   "outputs": [],
   "source": [
    "from sklearn import datasets\n",
    "from sklearn import tree\n",
    "from sklearn.model_selection import train_test_split\n",
    "from sklearn.metrics import accuracy_score"
   ]
  },
  {
   "cell_type": "markdown",
   "metadata": {},
   "source": [
    "### Load Iris Data\n",
    "Data \n",
    "    Data contains Iris data or features. The dataset contains a set of 150 records under five attributes - petal length, petal width, sepal length, sepal width and species.\n",
    "    \n",
    "Target \n",
    "    contains one of three types of Iris,  Iris setosa, Iris virginica and Iris versicolor\n"
   ]
  },
  {
   "cell_type": "code",
   "execution_count": 43,
   "metadata": {},
   "outputs": [],
   "source": [
    "# Load scikit-learn data\n",
    "iris = datasets.load_iris()"
   ]
  },
  {
   "cell_type": "markdown",
   "metadata": {},
   "source": [
    "### Create Train and Test Sets\n"
   ]
  },
  {
   "cell_type": "code",
   "execution_count": 50,
   "metadata": {},
   "outputs": [],
   "source": [
    "# Create Training target (aka iris name) and data \n",
    "x = iris.data\n",
    "y = iris.target # iris type\n",
    "\n",
    "# x_train_data = training data\n",
    "# y_train_labels = training labels\n",
    "# x_test_data = test data\n",
    "# y_test_Labels = test labels\n",
    "x_train_data, x_test_data, y_train_label, y_test_label = train_test_split(x,y, test_size=.25)"
   ]
  },
  {
   "cell_type": "markdown",
   "metadata": {},
   "source": [
    "### Select Model"
   ]
  },
  {
   "cell_type": "code",
   "execution_count": 51,
   "metadata": {},
   "outputs": [],
   "source": [
    "# Create Decision Tree Classifier\n",
    "clf = tree.DecisionTreeClassifier(random_state=42)"
   ]
  },
  {
   "cell_type": "code",
   "execution_count": 52,
   "metadata": {},
   "outputs": [
    {
     "name": "stdout",
     "output_type": "stream",
     "text": [
      "Expected predictions : [0 0 1 0 2 1 1 2 0 0 2 0 2 0 1 1 0 0 1 0 0 0 2 0 2 2 1 0 2 2 2 0 2 0 2 0 1\n",
      " 2]\n",
      "Actual predictions   : [0 0 1 0 1 1 1 2 0 0 2 0 2 0 1 1 0 0 2 0 0 0 2 0 2 2 1 0 1 2 2 0 2 0 2 0 1\n",
      " 2]\n"
     ]
    }
   ],
   "source": [
    "clf.fit(x_train_data, y_train_label)\n",
    "predictions = clf.predict(x_test_data)\n",
    "# print the expected predictions\n",
    "print(\"Expected predictions :\",y_test_label)\n",
    "print(\"Actual predictions   :\",predictions)\n"
   ]
  },
  {
   "cell_type": "markdown",
   "metadata": {},
   "source": [
    "### Analyze Results"
   ]
  },
  {
   "cell_type": "code",
   "execution_count": 54,
   "metadata": {},
   "outputs": [
    {
     "name": "stdout",
     "output_type": "stream",
     "text": [
      "0.9210526315789473\n"
     ]
    }
   ],
   "source": [
    "print (accuracy_score(y_test_label, predictions ))"
   ]
  }
 ],
 "metadata": {
  "kernelspec": {
   "display_name": "Python 3",
   "language": "python",
   "name": "python3"
  },
  "language_info": {
   "codemirror_mode": {
    "name": "ipython",
    "version": 3
   },
   "file_extension": ".py",
   "mimetype": "text/x-python",
   "name": "python",
   "nbconvert_exporter": "python",
   "pygments_lexer": "ipython3",
   "version": "3.6.5"
  }
 },
 "nbformat": 4,
 "nbformat_minor": 2
}
