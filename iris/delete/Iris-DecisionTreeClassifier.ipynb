{
 "cells": [
  {
   "cell_type": "code",
   "execution_count": 1,
   "metadata": {},
   "outputs": [],
   "source": [
    "from sklearn import datasets\n",
    "import matplotlib.pyplot as plt\n",
    "from mpl_toolkits.mplot3d import Axes3D\n",
    "from sklearn.decomposition import PCA\n",
    "from sklearn import tree\n",
    "import numpy as np"
   ]
  },
  {
   "cell_type": "markdown",
   "metadata": {},
   "source": [
    "## Iris is the Hello World for Machine Learning\n",
    "This demonstrates a simple Decision Tree classifier.\n",
    "Data is available from scikit-learn.\n",
    "info on the data is available from https://scikit-learn.org/stable/datasets/index.html#iris-dataset\n",
    "In this directory, Iris-ExploreTheData.ipynb explores the data set.\n"
   ]
  },
  {
   "cell_type": "code",
   "execution_count": 2,
   "metadata": {},
   "outputs": [],
   "source": [
    "# Load scikit-learn data\n",
    "iris = datasets.load_iris()"
   ]
  },
  {
   "cell_type": "code",
   "execution_count": 3,
   "metadata": {},
   "outputs": [],
   "source": [
    "# Create Training target (aka iris name) and data \n",
    "# Remove Test data from set\n",
    "#\n",
    "# Remove one row of data for each type of iris for use in testing our prediction later.\n",
    "test_index = [0,50,100]\n",
    "train_target = np.delete(iris.target, test_index)\n",
    "# check axis=0 for deleting row\n",
    "train_data = np.delete(iris.data, test_index, axis=0)\n"
   ]
  },
  {
   "cell_type": "code",
   "execution_count": 4,
   "metadata": {},
   "outputs": [],
   "source": [
    "# Create Test target and data\n",
    "test_target = iris.target[test_index]\n",
    "test_data= iris.data[test_index]"
   ]
  },
  {
   "cell_type": "code",
   "execution_count": 5,
   "metadata": {},
   "outputs": [],
   "source": [
    "# Create Decision Tree Classifier\n",
    "clf = tree.DecisionTreeClassifier()"
   ]
  },
  {
   "cell_type": "code",
   "execution_count": 6,
   "metadata": {},
   "outputs": [
    {
     "name": "stdout",
     "output_type": "stream",
     "text": [
      "Expected predictions : [0 1 2]\n",
      "Actual predictions   : [0 1 2]\n"
     ]
    }
   ],
   "source": [
    "pred = clf.fit(train_data,train_target)\n",
    "score = clf.predict(test_data)\n",
    "# print the expected predictions\n",
    "print(\"Expected predictions :\",test_target)\n",
    "print(\"Actual predictions   :\",score)\n"
   ]
  },
  {
   "cell_type": "code",
   "execution_count": null,
   "metadata": {},
   "outputs": [],
   "source": []
  }
 ],
 "metadata": {
  "kernelspec": {
   "display_name": "Python 3",
   "language": "python",
   "name": "python3"
  },
  "language_info": {
   "codemirror_mode": {
    "name": "ipython",
    "version": 3
   },
   "file_extension": ".py",
   "mimetype": "text/x-python",
   "name": "python",
   "nbconvert_exporter": "python",
   "pygments_lexer": "ipython3",
   "version": "3.6.5"
  }
 },
 "nbformat": 4,
 "nbformat_minor": 2
}
