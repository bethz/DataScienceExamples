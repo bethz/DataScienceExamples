{
 "cells": [
  {
   "cell_type": "markdown",
   "metadata": {},
   "source": [
    "## Iris Prediction using Decision Tree Classifier\n",
    "\n",
    "Iris is the Hello World for Machine Learning¶\n",
    "it is packaged in scikit-learn info on the data is available from https://scikit-learn.org/stable/datasets/index.html#iris-dataset\n",
    "This is a very basic intro.\n",
    "\n",
    "### Load Libraries"
   ]
  },
  {
   "cell_type": "code",
   "execution_count": 1,
   "metadata": {},
   "outputs": [],
   "source": [
    "from sklearn import datasets\n",
    "import matplotlib.pyplot as plt\n",
    "from mpl_toolkits.mplot3d import Axes3D\n",
    "from sklearn.decomposition import PCA\n",
    "from sklearn import tree\n",
    "import numpy as np"
   ]
  },
  {
   "cell_type": "markdown",
   "metadata": {},
   "source": [
    "### Load Iris Data\n",
    "Data \n",
    "    Data contains Iris data or features. The dataset contains a set of 150 records under five attributes - petal length, petal width, sepal length, sepal width and species.\n",
    "    \n",
    "Target \n",
    "    contains one of three types of Iris,  Iris setosa, Iris virginica and Iris versicolor\n"
   ]
  },
  {
   "cell_type": "code",
   "execution_count": 2,
   "metadata": {},
   "outputs": [],
   "source": [
    "# Load scikit-learn data\n",
    "iris = datasets.load_iris()"
   ]
  },
  {
   "cell_type": "markdown",
   "metadata": {},
   "source": [
    "### Create Train and Test Sets\n",
    "\n",
    "For testing purposes, we will select one of each type of Iris and remove it from the data set for training.\n",
    "Each Iris is one row in the data.\n",
    "\n",
    "The dataset has 150 rows and:\n",
    "    Iris Setosa is in rows 0-49\n",
    "    Iris Virginica is in row 50-99\n",
    "    Iris Versicolor is in row 100 and above\n",
    "    \n",
    "We delete each of the test Iris rows (row = 0,50 and 100) and save the row data for use in testing."
   ]
  },
  {
   "cell_type": "code",
   "execution_count": 3,
   "metadata": {},
   "outputs": [],
   "source": [
    "# Create Training target (aka iris name) and data \n",
    "# Remove Test data from set\n",
    "#\n",
    "# Remove one row of data for each type of iris for use in testing our prediction later.\n",
    "test_index = [0,50,100]\n",
    "train_target = np.delete(iris.target, test_index)\n",
    "# check axis=0 for deleting row\n",
    "train_data = np.delete(iris.data, test_index, axis=0)\n"
   ]
  },
  {
   "cell_type": "code",
   "execution_count": 4,
   "metadata": {},
   "outputs": [],
   "source": [
    "# Create Test target and data\n",
    "test_target = iris.target[test_index]\n",
    "test_data= iris.data[test_index]"
   ]
  },
  {
   "cell_type": "code",
   "execution_count": 5,
   "metadata": {},
   "outputs": [],
   "source": [
    "# Create Decision Tree Classifier\n",
    "clf = tree.DecisionTreeClassifier()"
   ]
  },
  {
   "cell_type": "code",
   "execution_count": 6,
   "metadata": {},
   "outputs": [
    {
     "name": "stdout",
     "output_type": "stream",
     "text": [
      "Expected predictions : [0 1 2]\n",
      "Actual predictions   : [0 1 2]\n"
     ]
    }
   ],
   "source": [
    "pred = clf.fit(train_data,train_target)\n",
    "score = clf.predict(test_data)\n",
    "# print the expected predictions\n",
    "print(\"Expected predictions :\",test_target)\n",
    "print(\"Actual predictions   :\",score)\n"
   ]
  },
  {
   "cell_type": "code",
   "execution_count": 7,
   "metadata": {},
   "outputs": [
    {
     "name": "stdout",
     "output_type": "stream",
     "text": [
      "Requirement already satisfied: pydot in c:\\users\\bezeran\\appdata\\local\\continuum\\anaconda3\\lib\\site-packages (1.4.1)\n",
      "Requirement already satisfied: pyparsing>=2.1.4 in c:\\users\\bezeran\\appdata\\local\\continuum\\anaconda3\\lib\\site-packages (from pydot) (2.2.0)\n",
      "Requirement already satisfied: pydotplus in c:\\users\\bezeran\\appdata\\local\\continuum\\anaconda3\\lib\\site-packages (2.0.2)\n",
      "Requirement already satisfied: pyparsing>=2.0.1 in c:\\users\\bezeran\\appdata\\local\\continuum\\anaconda3\\lib\\site-packages (from pydotplus) (2.2.0)\n",
      "Collecting pygraphviz\n",
      "  Using cached https://files.pythonhosted.org/packages/7e/b1/d6d849ddaf6f11036f9980d433f383d4c13d1ebcfc3cd09bc845bda7e433/pygraphviz-1.5.zip\n",
      "Building wheels for collected packages: pygraphviz\n",
      "  Running setup.py bdist_wheel for pygraphviz: started\n",
      "  Running setup.py bdist_wheel for pygraphviz: finished with status 'error'\n",
      "  Complete output from command c:\\users\\bezeran\\appdata\\local\\continuum\\anaconda3\\python.exe -u -c \"import setuptools, tokenize;__file__='C:\\\\Users\\\\bezeran\\\\AppData\\\\Local\\\\Temp\\\\pip-install-tnnvz0w4\\\\pygraphviz\\\\setup.py';f=getattr(tokenize, 'open', open)(__file__);code=f.read().replace('\\r\\n', '\\n');f.close();exec(compile(code, __file__, 'exec'))\" bdist_wheel -d C:\\Users\\bezeran\\AppData\\Local\\Temp\\pip-wheel-qpd34ifn --python-tag cp36:\n",
      "  running bdist_wheel\n",
      "  running build\n",
      "  running build_py\n",
      "  creating build\n",
      "  creating build\\lib.win-amd64-3.6\n",
      "  creating build\\lib.win-amd64-3.6\\pygraphviz\n",
      "  copying pygraphviz\\agraph.py -> build\\lib.win-amd64-3.6\\pygraphviz\n",
      "  copying pygraphviz\\graphviz.py -> build\\lib.win-amd64-3.6\\pygraphviz\n",
      "  copying pygraphviz\\release.py -> build\\lib.win-amd64-3.6\\pygraphviz\n",
      "  copying pygraphviz\\version.py -> build\\lib.win-amd64-3.6\\pygraphviz\n",
      "  copying pygraphviz\\__init__.py -> build\\lib.win-amd64-3.6\\pygraphviz\n",
      "  creating build\\lib.win-amd64-3.6\\pygraphviz\\tests\n",
      "  copying pygraphviz\\tests\\test.py -> build\\lib.win-amd64-3.6\\pygraphviz\\tests\n",
      "  copying pygraphviz\\tests\\test_attributes.py -> build\\lib.win-amd64-3.6\\pygraphviz\\tests\n",
      "  copying pygraphviz\\tests\\test_attribute_defaults.py -> build\\lib.win-amd64-3.6\\pygraphviz\\tests\n",
      "  copying pygraphviz\\tests\\test_clear.py -> build\\lib.win-amd64-3.6\\pygraphviz\\tests\n",
      "  copying pygraphviz\\tests\\test_drawing.py -> build\\lib.win-amd64-3.6\\pygraphviz\\tests\n",
      "  copying pygraphviz\\tests\\test_edge_attributes.py -> build\\lib.win-amd64-3.6\\pygraphviz\\tests\n",
      "  copying pygraphviz\\tests\\test_graph.py -> build\\lib.win-amd64-3.6\\pygraphviz\\tests\n",
      "  copying pygraphviz\\tests\\test_html.py -> build\\lib.win-amd64-3.6\\pygraphviz\\tests\n",
      "  copying pygraphviz\\tests\\test_layout.py -> build\\lib.win-amd64-3.6\\pygraphviz\\tests\n",
      "  copying pygraphviz\\tests\\test_node_attributes.py -> build\\lib.win-amd64-3.6\\pygraphviz\\tests\n",
      "  copying pygraphviz\\tests\\test_readwrite.py -> build\\lib.win-amd64-3.6\\pygraphviz\\tests\n",
      "  copying pygraphviz\\tests\\test_setup.py -> build\\lib.win-amd64-3.6\\pygraphviz\\tests\n",
      "  copying pygraphviz\\tests\\test_string.py -> build\\lib.win-amd64-3.6\\pygraphviz\\tests\n",
      "  copying pygraphviz\\tests\\test_subgraph.py -> build\\lib.win-amd64-3.6\\pygraphviz\\tests\n",
      "  copying pygraphviz\\tests\\test_unicode.py -> build\\lib.win-amd64-3.6\\pygraphviz\\tests\n",
      "  copying pygraphviz\\tests\\__init__.py -> build\\lib.win-amd64-3.6\\pygraphviz\\tests\n",
      "  running egg_info\n",
      "  writing pygraphviz.egg-info\\PKG-INFO\n",
      "  writing dependency_links to pygraphviz.egg-info\\dependency_links.txt\n",
      "  writing top-level names to pygraphviz.egg-info\\top_level.txt\n",
      "  reading manifest file 'pygraphviz.egg-info\\SOURCES.txt'\n",
      "  reading manifest template 'MANIFEST.in'\n",
      "  warning: no files found matching '*.png' under directory 'doc'\n",
      "  warning: no files found matching '*.html' under directory 'doc'\n",
      "  warning: no files found matching '*.txt' under directory 'doc'\n",
      "  warning: no files found matching '*.css' under directory 'doc'\n",
      "  warning: no previously-included files matching '*~' found anywhere in distribution\n",
      "  warning: no previously-included files matching '*.pyc' found anywhere in distribution\n",
      "  warning: no previously-included files matching '.svn' found anywhere in distribution\n",
      "  no previously-included directories found matching 'doc\\build'\n",
      "  writing manifest file 'pygraphviz.egg-info\\SOURCES.txt'\n",
      "  copying pygraphviz\\graphviz.i -> build\\lib.win-amd64-3.6\\pygraphviz\n",
      "  copying pygraphviz\\graphviz_wrap.c -> build\\lib.win-amd64-3.6\\pygraphviz\n",
      "  running build_ext\n",
      "  building 'pygraphviz._graphviz' extension\n",
      "  error: Microsoft Visual C++ 14.0 is required. Get it with \"Microsoft Visual C++ Build Tools\": http://landinghub.visualstudio.com/visual-cpp-build-tools\n",
      "  \n",
      "  ----------------------------------------\n",
      "  Running setup.py clean for pygraphviz\n",
      "Failed to build pygraphviz\n",
      "Installing collected packages: pygraphviz\n",
      "  Running setup.py install for pygraphviz: started\n",
      "    Running setup.py install for pygraphviz: finished with status 'error'\n",
      "    Complete output from command c:\\users\\bezeran\\appdata\\local\\continuum\\anaconda3\\python.exe -u -c \"import setuptools, tokenize;__file__='C:\\\\Users\\\\bezeran\\\\AppData\\\\Local\\\\Temp\\\\pip-install-tnnvz0w4\\\\pygraphviz\\\\setup.py';f=getattr(tokenize, 'open', open)(__file__);code=f.read().replace('\\r\\n', '\\n');f.close();exec(compile(code, __file__, 'exec'))\" install --record C:\\Users\\bezeran\\AppData\\Local\\Temp\\pip-record-e883xrpl\\install-record.txt --single-version-externally-managed --compile:\n",
      "    running install\n",
      "    include_dirs=None\n",
      "    library_dirs=None\n",
      "    running build\n",
      "    running build_py\n",
      "    creating build\n",
      "    creating build\\lib.win-amd64-3.6\n",
      "    creating build\\lib.win-amd64-3.6\\pygraphviz\n",
      "    copying pygraphviz\\agraph.py -> build\\lib.win-amd64-3.6\\pygraphviz\n",
      "    copying pygraphviz\\graphviz.py -> build\\lib.win-amd64-3.6\\pygraphviz\n",
      "    copying pygraphviz\\release.py -> build\\lib.win-amd64-3.6\\pygraphviz\n",
      "    copying pygraphviz\\version.py -> build\\lib.win-amd64-3.6\\pygraphviz\n",
      "    copying pygraphviz\\__init__.py -> build\\lib.win-amd64-3.6\\pygraphviz\n",
      "    creating build\\lib.win-amd64-3.6\\pygraphviz\\tests\n",
      "    copying pygraphviz\\tests\\test.py -> build\\lib.win-amd64-3.6\\pygraphviz\\tests\n",
      "    copying pygraphviz\\tests\\test_attributes.py -> build\\lib.win-amd64-3.6\\pygraphviz\\tests\n",
      "    copying pygraphviz\\tests\\test_attribute_defaults.py -> build\\lib.win-amd64-3.6\\pygraphviz\\tests\n",
      "    copying pygraphviz\\tests\\test_clear.py -> build\\lib.win-amd64-3.6\\pygraphviz\\tests\n",
      "    copying pygraphviz\\tests\\test_drawing.py -> build\\lib.win-amd64-3.6\\pygraphviz\\tests\n",
      "    copying pygraphviz\\tests\\test_edge_attributes.py -> build\\lib.win-amd64-3.6\\pygraphviz\\tests\n",
      "    copying pygraphviz\\tests\\test_graph.py -> build\\lib.win-amd64-3.6\\pygraphviz\\tests\n",
      "    copying pygraphviz\\tests\\test_html.py -> build\\lib.win-amd64-3.6\\pygraphviz\\tests\n",
      "    copying pygraphviz\\tests\\test_layout.py -> build\\lib.win-amd64-3.6\\pygraphviz\\tests\n",
      "    copying pygraphviz\\tests\\test_node_attributes.py -> build\\lib.win-amd64-3.6\\pygraphviz\\tests\n",
      "    copying pygraphviz\\tests\\test_readwrite.py -> build\\lib.win-amd64-3.6\\pygraphviz\\tests\n",
      "    copying pygraphviz\\tests\\test_setup.py -> build\\lib.win-amd64-3.6\\pygraphviz\\tests\n",
      "    copying pygraphviz\\tests\\test_string.py -> build\\lib.win-amd64-3.6\\pygraphviz\\tests\n",
      "    copying pygraphviz\\tests\\test_subgraph.py -> build\\lib.win-amd64-3.6\\pygraphviz\\tests\n",
      "    copying pygraphviz\\tests\\test_unicode.py -> build\\lib.win-amd64-3.6\\pygraphviz\\tests\n",
      "    copying pygraphviz\\tests\\__init__.py -> build\\lib.win-amd64-3.6\\pygraphviz\\tests\n",
      "    running egg_info\n",
      "    writing pygraphviz.egg-info\\PKG-INFO\n",
      "    writing dependency_links to pygraphviz.egg-info\\dependency_links.txt\n",
      "    writing top-level names to pygraphviz.egg-info\\top_level.txt\n",
      "    reading manifest file 'pygraphviz.egg-info\\SOURCES.txt'\n",
      "    reading manifest template 'MANIFEST.in'\n",
      "    warning: no files found matching '*.png' under directory 'doc'\n",
      "    warning: no files found matching '*.html' under directory 'doc'\n",
      "    warning: no files found matching '*.txt' under directory 'doc'\n",
      "    warning: no files found matching '*.css' under directory 'doc'\n",
      "    warning: no previously-included files matching '*~' found anywhere in distribution\n",
      "    warning: no previously-included files matching '*.pyc' found anywhere in distribution\n",
      "    warning: no previously-included files matching '.svn' found anywhere in distribution\n",
      "    no previously-included directories found matching 'doc\\build'\n",
      "    writing manifest file 'pygraphviz.egg-info\\SOURCES.txt'\n",
      "    copying pygraphviz\\graphviz.i -> build\\lib.win-amd64-3.6\\pygraphviz\n",
      "    copying pygraphviz\\graphviz_wrap.c -> build\\lib.win-amd64-3.6\\pygraphviz\n",
      "    running build_ext\n",
      "    building 'pygraphviz._graphviz' extension\n",
      "    error: Microsoft Visual C++ 14.0 is required. Get it with \"Microsoft Visual C++ Build Tools\": http://landinghub.visualstudio.com/visual-cpp-build-tools\n",
      "    \n",
      "    ----------------------------------------\n"
     ]
    },
    {
     "name": "stderr",
     "output_type": "stream",
     "text": [
      "  Failed building wheel for pygraphviz\n",
      "Command \"c:\\users\\bezeran\\appdata\\local\\continuum\\anaconda3\\python.exe -u -c \"import setuptools, tokenize;__file__='C:\\\\Users\\\\bezeran\\\\AppData\\\\Local\\\\Temp\\\\pip-install-tnnvz0w4\\\\pygraphviz\\\\setup.py';f=getattr(tokenize, 'open', open)(__file__);code=f.read().replace('\\r\\n', '\\n');f.close();exec(compile(code, __file__, 'exec'))\" install --record C:\\Users\\bezeran\\AppData\\Local\\Temp\\pip-record-e883xrpl\\install-record.txt --single-version-externally-managed --compile\" failed with error code 1 in C:\\Users\\bezeran\\AppData\\Local\\Temp\\pip-install-tnnvz0w4\\pygraphviz\\\n"
     ]
    }
   ],
   "source": [
    "!pip install pydot\n",
    "!pip install pydotplus\n",
    "!pip install pygraphviz\n",
    "!pip install Graphviz"
   ]
  },
  {
   "cell_type": "code",
   "execution_count": 13,
   "metadata": {},
   "outputs": [
    {
     "ename": "ModuleNotFoundError",
     "evalue": "No module named 'Graphviz'",
     "output_type": "error",
     "traceback": [
      "\u001b[1;31m---------------------------------------------------------------------------\u001b[0m",
      "\u001b[1;31mModuleNotFoundError\u001b[0m                       Traceback (most recent call last)",
      "\u001b[1;32m<ipython-input-13-9f44bdc433f1>\u001b[0m in \u001b[0;36m<module>\u001b[1;34m()\u001b[0m\n\u001b[0;32m      1\u001b[0m \u001b[1;32mimport\u001b[0m \u001b[0mpydotplus\u001b[0m\u001b[1;33m\u001b[0m\u001b[0m\n\u001b[1;32m----> 2\u001b[1;33m \u001b[1;32mimport\u001b[0m \u001b[0mGraphviz\u001b[0m\u001b[1;33m\u001b[0m\u001b[0m\n\u001b[0m\u001b[0;32m      3\u001b[0m \u001b[1;32mfrom\u001b[0m \u001b[0mIPython\u001b[0m\u001b[1;33m.\u001b[0m\u001b[0mdisplay\u001b[0m \u001b[1;32mimport\u001b[0m \u001b[0mImage\u001b[0m\u001b[1;33m\u001b[0m\u001b[0m\n",
      "\u001b[1;31mModuleNotFoundError\u001b[0m: No module named 'Graphviz'"
     ]
    }
   ],
   "source": [
    "import pydotplus\n",
    "import Graphviz\n",
    "from IPython.display import Image"
   ]
  },
  {
   "cell_type": "code",
   "execution_count": 14,
   "metadata": {},
   "outputs": [
    {
     "name": "stdout",
     "output_type": "stream",
     "text": [
      "<pydotplus.graphviz.Dot object at 0x0000023BD3495BE0>\n"
     ]
    },
    {
     "ename": "NameError",
     "evalue": "name 'Image' is not defined",
     "output_type": "error",
     "traceback": [
      "\u001b[1;31m---------------------------------------------------------------------------\u001b[0m",
      "\u001b[1;31mNameError\u001b[0m                                 Traceback (most recent call last)",
      "\u001b[1;32m<ipython-input-14-07161d739d38>\u001b[0m in \u001b[0;36m<module>\u001b[1;34m()\u001b[0m\n\u001b[0;32m     12\u001b[0m \u001b[0mgraph\u001b[0m \u001b[1;33m=\u001b[0m \u001b[0mpydotplus\u001b[0m\u001b[1;33m.\u001b[0m\u001b[0mgraph_from_dot_data\u001b[0m\u001b[1;33m(\u001b[0m\u001b[0mdot_data\u001b[0m\u001b[1;33m.\u001b[0m\u001b[0mgetvalue\u001b[0m\u001b[1;33m(\u001b[0m\u001b[1;33m)\u001b[0m\u001b[1;33m)\u001b[0m\u001b[1;33m\u001b[0m\u001b[0m\n\u001b[0;32m     13\u001b[0m \u001b[0mprint\u001b[0m\u001b[1;33m(\u001b[0m\u001b[0mgraph\u001b[0m\u001b[1;33m)\u001b[0m\u001b[1;33m\u001b[0m\u001b[0m\n\u001b[1;32m---> 14\u001b[1;33m \u001b[0mImage\u001b[0m\u001b[1;33m(\u001b[0m\u001b[0mgraph\u001b[0m\u001b[1;33m.\u001b[0m\u001b[0mcreate_png\u001b[0m\u001b[1;33m)\u001b[0m\u001b[1;33m\u001b[0m\u001b[0m\n\u001b[0m\u001b[0;32m     15\u001b[0m \u001b[1;31m#graph.write_pdf(\"iris.pdf\")\u001b[0m\u001b[1;33m\u001b[0m\u001b[1;33m\u001b[0m\u001b[0m\n",
      "\u001b[1;31mNameError\u001b[0m: name 'Image' is not defined"
     ]
    }
   ],
   "source": [
    "#viz code\n",
    "from sklearn.externals.six import StringIO\n",
    "import pydot\n",
    "dot_data = StringIO()\n",
    "tree.export_graphviz(clf,\n",
    "                    out_file=dot_data,\n",
    "                    feature_names=iris.feature_names,\n",
    "                    class_names=iris.target_names,\n",
    "                    filled=True, rounded=True,\n",
    "                    impurity=False)\n",
    "\n",
    "graph = pydotplus.graph_from_dot_data(dot_data.getvalue())\n",
    "#print(graph)\n",
    "Image(graph.create_png)\n",
    "#graph.write_pdf(\"iris.pdf\")"
   ]
  },
  {
   "cell_type": "code",
   "execution_count": null,
   "metadata": {},
   "outputs": [],
   "source": []
  }
 ],
 "metadata": {
  "kernelspec": {
   "display_name": "Python 3",
   "language": "python",
   "name": "python3"
  },
  "language_info": {
   "codemirror_mode": {
    "name": "ipython",
    "version": 3
   },
   "file_extension": ".py",
   "mimetype": "text/x-python",
   "name": "python",
   "nbconvert_exporter": "python",
   "pygments_lexer": "ipython3",
   "version": "3.6.5"
  }
 },
 "nbformat": 4,
 "nbformat_minor": 2
}
